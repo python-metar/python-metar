{
 "metadata": {
  "name": ""
 },
 "nbformat": 3,
 "nbformat_minor": 0,
 "worksheets": [
  {
   "cells": [
    {
     "cell_type": "markdown",
     "metadata": {},
     "source": [
      "## Rainfall data acquisition and (rudimentary) analysis\n",
      "\n",
      "### First things first\n",
      "A big thanks to Tom Pollard for doing all the heavy lifting with the regular expressions. See below on dependancies. You can get to Tom's fork of python-metar from the link to mine.\n",
      "\n",
      "### Dependancies\n",
      "This notebook and (my fork of) python-metar depend on [pandas](https://github.com/pydata/pandas) and [matplotlib](https://github.com/matplotlib/matplotlib) and of course their dependancies. \n",
      "\n",
      "Here is [my fork of the python-metar project](https://github.com/phobson/python-metar)\n",
      "\n",
      "You can also download [this notebook](https://gist.github.com/4103517)\n",
      "\n",
      "### Scope\n",
      "This notebook downloads, processes, and somewhat analyzes climate data from the NCDC's collection ASOS data and airport weather station data found at wunderground.com.\n",
      "\n",
      "For more information about ASOS data, visit http://www.nws.noaa.gov/asos/\n",
      "\n",
      "### What's really happening\n",
      "NCDC posts 5-min ASOS data on their ftp site. ftp://ftp.ncdc.noaa.gov/pub/data/asos-fivemin/\n",
      "\n",
      "Data are stored in monthly files. Each observation is stored as a METAR string. It's a pretty nasty format. It looks like this:\n",
      "\n",
      "    KDEN 281950Z AUTO 11006KT 6SM HZ SCT080 15/12 A3013 RMK AO2 SLP123\n",
      "\n",
      "The code downloads, parses, and compiles this data in a CSV file with the following columns:\n",
      "\n",
      "*   Observation station\n",
      "*   date/time of the observations\n",
      "*   Cumulative hourly precipitation (in)\n",
      "*   5-min precipitation intensity \n",
      "*   Temperature (degC)\n",
      "*   Dew point (degC)\n",
      "*   Wind speed (mph)\n",
      "*   Wind direction (deg)\n",
      "*   Atmospheric Pressure (hPa)\n",
      "\n",
      "This notebook then reads that data into a dataframe can execute a (currently growing) variety of analyses.\n",
      "\n",
      "Note that the data will not be re-downloaded if they already exist on this notebook's server. I'm sure NCDC appreciates that and it saves you some computational time.\n",
      "\n",
      "See http://www.wrh.noaa.gov/wrh/metar_decode_key.pdf for more info on the METAR data format\n",
      "\n",
      "### Instructions\n",
      "#### Step One\n",
      "Go to [this FAA map of weather stations](http://www.faa.gov/air_traffic/weather/asos/?state=OR width=700 height=500>) and find a gray marker near where you'd like to get data.\n",
      "\n",
      "#### Step Two\n",
      "Click the grey marker you like and make note of its call sign (e.g., Portland is 'KPDX')\n",
      "\n",
      "#### Step Three\n",
      "In the cell below the embedded webpage, define the variables `station_id`, `startdate`, and `enddate`. The variable `station_id` is the call sign for your station. Using Portland as an example, the cell should look like this:\n",
      "\n",
      "    station_id = 'KPDX'\n",
      "    startdate = '2000-1-1'\n",
      "    enddate = 'September 30, 2012'\n",
      "\n",
      "Note that you can mix the formats of the dates. The data analysis fairy knows what to do.\n",
      "\n",
      "Run that cell and follow the remaining instructions above the subsequent cells."
     ]
    },
    {
     "cell_type": "markdown",
     "metadata": {},
     "source": [
      "#### Cell for Steps One and Two"
     ]
    },
    {
     "cell_type": "code",
     "collapsed": false,
     "input": [
      "%pylab inline\n",
      "from __future__ import division\n",
      "import os\n",
      "import datetime\n",
      "\n",
      "import numpy as np\n",
      "import pandas\n",
      "#import statsmodels.api as sm\n",
      "\n",
      "import matplotlib\n",
      "matplotlib.rcParams['savefig.dpi'] = 144\n",
      "import matplotlib.pyplot as plt\n",
      "\n",
      "import metar\n",
      "\n",
      "from IPython.display import HTML\n",
      "%config InlineBackend.figure_format = 'svg'\n",
      "\n",
      "# uncomment the next line to embed the FAA map into the notebook.\n",
      "#HTML('<iframe src=http://www.faa.gov/air_traffic/weather/asos/?state=OR width=700 height=500>')"
     ],
     "language": "python",
     "metadata": {},
     "outputs": []
    },
    {
     "cell_type": "markdown",
     "metadata": {},
     "source": [
      "#### Cell for Step Three (analysis inputs here). \n",
      "This step takes a long time. I really need to add some sort of progress indicator."
     ]
    },
    {
     "cell_type": "code",
     "collapsed": true,
     "input": [
      "station_id = 'KPDX'\n",
      "startdate = '2011-10-1'\n",
      "enddate = '2013-9-30'\n",
      "# create the station\n",
      "sta = metar.WeatherStation(station_id)\n",
      "sta.getASOSData(startdate, enddate, filename='KPDX.csv')\n",
      "sta.data['asos'].head()"
     ],
     "language": "python",
     "metadata": {},
     "outputs": []
    },
    {
     "cell_type": "markdown",
     "metadata": {},
     "source": [
      "#### Dump 5-min, 15-min, and hourly data SWMM format"
     ]
    },
    {
     "cell_type": "code",
     "collapsed": false,
     "input": [
      "# 5-minute\n",
      "p05min = metar.dumpSWMMFormat(sta.data['asos'], sta.sta_id, col='Precip', \n",
      "                     freq='5-min', dropzeros=True, filename='KPDX_05min.dat')\n",
      "\n",
      "# 15-minute\n",
      "p15min = metar.dumpSWMMFormat(sta.data['asos'], sta.sta_id, col='Precip', \n",
      "                     freq='15-min', dropzeros=True, filename='KPDX_15min.dat')\n",
      "\n",
      "# 1-hour\n",
      "p60min = metar.dumpSWMMFormat(sta.data['asos'], sta.sta_id, col='Precip', \n",
      "                     freq='hourly', dropzeros=True, filename='KPDX_60min.dat')\n",
      "\n",
      "p60min.head()"
     ],
     "language": "python",
     "metadata": {},
     "outputs": []
    },
    {
     "cell_type": "markdown",
     "metadata": {},
     "source": [
      "#### This cell plots 5-min, hourly, daily, and weekly rainfall depths"
     ]
    },
    {
     "cell_type": "code",
     "collapsed": false,
     "input": [
      "# set up the figures\n",
      "fig, ((ax1, ax2), (ax3, ax4)) = plt.subplots(nrows=2, ncols=2, figsize=(10,6))\n",
      "\n",
      "metar.hyetograph(sta.data['asos'], freq='5-min', ax=ax1)\n",
      "metar.hyetograph(sta.data['asos'], freq='hourly', ax=ax2)\n",
      "metar.hyetograph(sta.data['asos'], freq='daily', ax=ax3)\n",
      "metar.hyetograph(sta.data['asos'], freq='weekly', ax=ax4)\n",
      "for ax in [ax1, ax2, ax3, ax4]:\n",
      "    ax.tick_params(axis='y', labelsize=8)\n",
      "    ax.tick_params(axis='x', labelsize=8)\n",
      "fig.tight_layout()\n",
      "fig.savefig('Rainfall_Summary.png', dpi=300)"
     ],
     "language": "python",
     "metadata": {},
     "outputs": []
    },
    {
     "cell_type": "markdown",
     "metadata": {},
     "source": [
      "#### Histogram of hourly totals"
     ]
    },
    {
     "cell_type": "code",
     "collapsed": false,
     "input": [
      "fig, ax7 = plt.subplots()\n",
      "number_of_bins = 20\n",
      "hourlytotals = sta.data['asos'].Precip.resample(how='sum', rule='H')\n",
      "perc_freq, bins = np.histogram(hourlytotals.dropna(), bins=np.logspace(-2.0, 0.3, 25), density=True)\n",
      "bar_width = bins[1:] - bins[:-1]\n",
      "\n",
      "ax7.bar(bins[:-1], perc_freq, width=bar_width, bottom=10**-3, alpha=0.65, color='DodgerBlue')\n",
      "ax7.set_yscale('log')\n",
      "ax7.set_xscale('log')\n",
      "ax7.set_xlabel('Hourly Rainfall Depth (in)')\n",
      "ax7.set_ylabel('Relative Frequency')\n",
      "ax7.xaxis.set_tick_params(direction='out', which='both')\n",
      "ax7.yaxis.set_tick_params(direction='out', which='both')\n",
      "fig.savefig('IntensityHist.png', dpi=300)"
     ],
     "language": "python",
     "metadata": {},
     "outputs": []
    },
    {
     "cell_type": "markdown",
     "metadata": {},
     "source": [
      "#### Wind Rose\n",
      "(bars show direction from which the wind blows)"
     ]
    },
    {
     "cell_type": "code",
     "collapsed": false,
     "input": [
      "fig, ax = metar.windRose(sta.data['asos'], fname='WLrose.png', mph=True)\n",
      "fig.savefig('WindRose.png', dpi=300)"
     ],
     "language": "python",
     "metadata": {},
     "outputs": []
    },
    {
     "cell_type": "code",
     "collapsed": false,
     "input": [
      "ax = sta.data['asos'].Temp.resample('D', how='min').plot()\n",
      "ax.set_ylim((-20,50))"
     ],
     "language": "python",
     "metadata": {},
     "outputs": []
    },
    {
     "cell_type": "markdown",
     "metadata": {},
     "source": [
      "#### Rainfall clock\n",
      "This is a fun little function I wrote to show the relative probability that it might rain at any given time. Scientific and mathematical validity is dubious, at best"
     ]
    },
    {
     "cell_type": "code",
     "collapsed": false,
     "input": [
      "fig, axes = metar.rainClock(sta.data['asos'])"
     ],
     "language": "python",
     "metadata": {},
     "outputs": []
    },
    {
     "cell_type": "markdown",
     "metadata": {},
     "source": [
      "You can also select out data from a given month from all years"
     ]
    },
    {
     "cell_type": "code",
     "collapsed": false,
     "input": [
      "months = sta.data['asos'].Precip.index.month\n",
      "october_selector = (months == 10)\n",
      "fig, axes = metar.rainClock(sta.data['asos'][october_selector])\n",
      "fig.suptitle('%s in October' % sta.sta_id, fontsize='8')"
     ],
     "language": "python",
     "metadata": {},
     "outputs": []
    }
   ],
   "metadata": {}
  }
 ]
}